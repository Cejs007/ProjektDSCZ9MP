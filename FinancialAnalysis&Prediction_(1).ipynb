{
  "cells": [
    {
      "cell_type": "code",
      "execution_count": null,
      "metadata": {
        "id": "AeNYO9SmweCi"
      },
      "outputs": [],
      "source": [
        "import pandas as pd\n",
        "import numpy as np\n",
        "import os\n",
        "# plot\n",
        "import matplotlib.pyplot as plt\n",
        "import seaborn as sns\n",
        "#preprocessing\n",
        "from sklearn.preprocessing import MinMaxScaler\n",
        "from sklearn.model_selection import train_test_split\n",
        "#modelování\n",
        "from sklearn.neighbors import KNeighborsClassifier\n",
        "from sklearn.model_selection import GridSearchCV\n",
        "import pickle\n",
        "#vyhodnocení\n",
        "from sklearn.metrics import classification_report, confusion_matrix, balanced_accuracy_score"
      ]
    },
    {
      "cell_type": "markdown",
      "metadata": {
        "id": "nvgXDtv__ys0"
      },
      "source": [
        "### Spojení dat"
      ]
    },
    {
      "cell_type": "code",
      "execution_count": null,
      "metadata": {
        "id": "e0ATKNoW_ys0"
      },
      "outputs": [],
      "source": [
        "sloupce = ['ticker',\n",
        " 'Revenue',\n",
        " 'Revenue Growth',\n",
        " 'Cost of Revenue',\n",
        " 'Gross Profit',\n",
        " 'R&D Expenses',\n",
        " 'SG&A Expense',\n",
        " 'Operating Expenses',\n",
        " 'Operating Income',\n",
        " 'Interest Expense',\n",
        " 'Earnings before Tax',\n",
        " 'Income Tax Expense',\n",
        " 'Net Income - Non-Controlling int',\n",
        " 'Net Income - Discontinued ops',\n",
        " 'Net Income',\n",
        " 'Preferred Dividends',\n",
        " 'Net Income Com',\n",
        " 'EPS',\n",
        " 'EPS Diluted',\n",
        " 'Weighted Average Shs Out',\n",
        " 'Weighted Average Shs Out (Dil)',\n",
        " 'Dividend per Share',\n",
        " 'Gross Margin',\n",
        " 'EBITDA Margin',\n",
        " 'EBIT Margin',\n",
        " 'Profit Margin',\n",
        " 'Free Cash Flow margin',\n",
        " 'EBITDA',\n",
        " 'EBIT',\n",
        " 'Consolidated Income',\n",
        " 'Earnings Before Tax Margin',\n",
        " 'Net Profit Margin',\n",
        " 'Cash and cash equivalents',\n",
        " 'Short-term investments',\n",
        " 'Cash and short-term investments',\n",
        " 'Receivables',\n",
        " 'Inventories',\n",
        " 'Total current assets',\n",
        " 'Property, Plant & Equipment Net',\n",
        " 'Goodwill and Intangible Assets',\n",
        " 'Long-term investments',\n",
        " 'Tax assets',\n",
        " 'Total non-current assets',\n",
        " 'Total assets',\n",
        " 'Payables',\n",
        " 'Short-term debt',\n",
        " 'Total current liabilities',\n",
        " 'Long-term debt',\n",
        " 'Total debt',\n",
        " 'Deferred revenue',\n",
        " 'Tax Liabilities',\n",
        " 'Deposit Liabilities',\n",
        " 'Total non-current liabilities',\n",
        " 'Total liabilities',\n",
        " 'Other comprehensive income',\n",
        " 'Retained earnings (deficit)',\n",
        " 'Total shareholders equity',\n",
        " 'Investments',\n",
        " 'Net Debt',\n",
        " 'Other Assets',\n",
        " 'Other Liabilities',\n",
        " 'Depreciation & Amortization',\n",
        " 'Stock-based compensation',\n",
        " 'Operating Cash Flow',\n",
        " 'Capital Expenditure',\n",
        " 'Acquisitions and disposals',\n",
        " 'Investment purchases and sales',\n",
        " 'Investing Cash flow',\n",
        " 'Issuance (repayment) of debt',\n",
        " 'Issuance (buybacks) of shares',\n",
        " 'Dividend payments',\n",
        " 'Financing Cash Flow',\n",
        " 'Effect of forex changes on cash',\n",
        " 'Net cash flow / Change in cash',\n",
        " 'Free Cash Flow',\n",
        " 'Net Cash/Marketcap',\n",
        " 'priceBookValueRatio',\n",
        " 'priceToBookRatio',\n",
        " 'priceToSalesRatio',\n",
        " 'priceEarningsRatio',\n",
        " 'priceToFreeCashFlowsRatio',\n",
        " 'priceToOperatingCashFlowsRatio',\n",
        " 'priceCashFlowRatio',\n",
        " 'priceEarningsToGrowthRatio',\n",
        " 'priceSalesRatio',\n",
        " 'dividendYield',\n",
        " 'enterpriseValueMultiple',\n",
        " 'priceFairValue',\n",
        " 'ebitperRevenue',\n",
        " 'ebtperEBIT',\n",
        " 'niperEBT',\n",
        " 'grossProfitMargin',\n",
        " 'operatingProfitMargin',\n",
        " 'pretaxProfitMargin',\n",
        " 'netProfitMargin',\n",
        " 'effectiveTaxRate',\n",
        " 'returnOnAssets',\n",
        " 'returnOnEquity',\n",
        " 'returnOnCapitalEmployed',\n",
        " 'nIperEBT',\n",
        " 'eBTperEBIT',\n",
        " 'eBITperRevenue',\n",
        " 'payablesTurnover',\n",
        " 'inventoryTurnover',\n",
        " 'fixedAssetTurnover',\n",
        " 'assetTurnover',\n",
        " 'currentRatio',\n",
        " 'quickRatio',\n",
        " 'cashRatio',\n",
        " 'daysOfSalesOutstanding',\n",
        " 'daysOfInventoryOutstanding',\n",
        " 'operatingCycle',\n",
        " 'daysOfPayablesOutstanding',\n",
        " 'cashConversionCycle',\n",
        " 'debtRatio',\n",
        " 'debtEquityRatio',\n",
        " 'longtermDebtToCapitalization',\n",
        " 'totalDebtToCapitalization',\n",
        " 'interestCoverage',\n",
        " 'cashFlowToDebtRatio',\n",
        " 'companyEquityMultiplier',\n",
        " 'operatingCashFlowPerShare',\n",
        " 'freeCashFlowPerShare',\n",
        " 'cashPerShare',\n",
        " 'payoutRatio',\n",
        " 'operatingCashFlowSalesRatio',\n",
        " 'freeCashFlowOperatingCashFlowRatio',\n",
        " 'cashFlowCoverageRatios',\n",
        " 'shortTermCoverageRatios',\n",
        " 'capitalExpenditureCoverageRatios',\n",
        " 'dividendpaidAndCapexCoverageRatios',\n",
        " 'dividendPayoutRatio',\n",
        " 'Revenue per Share',\n",
        " 'Net Income per Share',\n",
        " 'Operating Cash Flow per Share',\n",
        " 'Free Cash Flow per Share',\n",
        " 'Cash per Share',\n",
        " 'Book Value per Share',\n",
        " 'Tangible Book Value per Share',\n",
        " 'Shareholders Equity per Share',\n",
        " 'Interest Debt per Share',\n",
        " 'Market Cap',\n",
        " 'Enterprise Value',\n",
        " 'PE ratio',\n",
        " 'Price to Sales Ratio',\n",
        " 'POCF ratio',\n",
        " 'PFCF ratio',\n",
        " 'PB ratio',\n",
        " 'PTB ratio',\n",
        " 'EV to Sales',\n",
        " 'Enterprise Value over EBITDA',\n",
        " 'EV to Operating cash flow',\n",
        " 'EV to Free cash flow',\n",
        " 'Earnings Yield',\n",
        " 'Free Cash Flow Yield',\n",
        " 'Debt to Equity',\n",
        " 'Debt to Assets',\n",
        " 'Net Debt to EBITDA',\n",
        " 'Current ratio',\n",
        " 'Interest Coverage',\n",
        " 'Income Quality',\n",
        " 'Dividend Yield',\n",
        " 'Payout Ratio',\n",
        " 'SG&A to Revenue',\n",
        " 'R&D to Revenue',\n",
        " 'Intangibles to Total Assets',\n",
        " 'Capex to Operating Cash Flow',\n",
        " 'Capex to Revenue',\n",
        " 'Capex to Depreciation',\n",
        " 'Stock-based compensation to Revenue',\n",
        " 'Graham Number',\n",
        " 'ROIC',\n",
        " 'Return on Tangible Assets',\n",
        " 'Graham Net-Net',\n",
        " 'Working Capital',\n",
        " 'Tangible Asset Value',\n",
        " 'Net Current Asset Value',\n",
        " 'Invested Capital',\n",
        " 'Average Receivables',\n",
        " 'Average Payables',\n",
        " 'Average Inventory',\n",
        " 'Days Sales Outstanding',\n",
        " 'Days Payables Outstanding',\n",
        " 'Days of Inventory on Hand',\n",
        " 'Receivables Turnover',\n",
        " 'Payables Turnover',\n",
        " 'Inventory Turnover',\n",
        " 'ROE',\n",
        " 'Capex per Share',\n",
        " 'Gross Profit Growth',\n",
        " 'EBIT Growth',\n",
        " 'Operating Income Growth',\n",
        " 'Net Income Growth',\n",
        " 'EPS Growth',\n",
        " 'EPS Diluted Growth',\n",
        " 'Weighted Average Shares Growth',\n",
        " 'Weighted Average Shares Diluted Growth',\n",
        " 'Dividends per Share Growth',\n",
        " 'Operating Cash Flow growth',\n",
        " 'Free Cash Flow growth',\n",
        " '10Y Revenue Growth (per Share)',\n",
        " '5Y Revenue Growth (per Share)',\n",
        " '3Y Revenue Growth (per Share)',\n",
        " '10Y Operating CF Growth (per Share)',\n",
        " '5Y Operating CF Growth (per Share)',\n",
        " '3Y Operating CF Growth (per Share)',\n",
        " '10Y Net Income Growth (per Share)',\n",
        " '5Y Net Income Growth (per Share)',\n",
        " '3Y Net Income Growth (per Share)',\n",
        " '10Y Shareholders Equity Growth (per Share)',\n",
        " '5Y Shareholders Equity Growth (per Share)',\n",
        " '3Y Shareholders Equity Growth (per Share)',\n",
        " '10Y Dividend per Share Growth (per Share)',\n",
        " '5Y Dividend per Share Growth (per Share)',\n",
        " '3Y Dividend per Share Growth (per Share)',\n",
        " 'Receivables growth',\n",
        " 'Inventory Growth',\n",
        " 'Asset Growth',\n",
        " 'Book Value per Share Growth',\n",
        " 'Debt Growth',\n",
        " 'R&D Expense Growth',\n",
        " 'SG&A Expenses Growth',\n",
        " 'Sector',\n",
        " 'EoY PRICE VAR [%]',\n",
        " 'Class']"
      ]
    },
    {
      "cell_type": "code",
      "execution_count": null,
      "metadata": {
        "colab": {
          "base_uri": "https://localhost:8080/"
        },
        "id": "0ziAKMF5_ys1",
        "outputId": "683141e1-d099-472c-ca01-352fb8934eb8"
      },
      "outputs": [
        {
          "output_type": "stream",
          "name": "stderr",
          "text": [
            "<ipython-input-11-67713a0c26b2>:12: FutureWarning: The behavior of DataFrame concatenation with empty or all-NA entries is deprecated. In a future version, this will no longer exclude empty or all-NA columns when determining the result dtypes. To retain the old behavior, exclude the relevant entries before the concat operation.\n",
            "  data = pd.concat([data, nacteny_soubor], ignore_index=True)\n"
          ]
        }
      ],
      "source": [
        "# ve které složce jsou data\n",
        "slozka = \"data\"\n",
        "# základní dataframe, ke kterému budu přidávat načtená data\n",
        "data = pd.DataFrame(columns=sloupce)\n",
        "# pro každý soubor ze složky\n",
        "for soubor in os.listdir(slozka):\n",
        "    # vyčti rok ze jména souboru\n",
        "    rok = int(soubor.split(\"_\")[0])\n",
        "    # načti soubor a přejmenuj sloupce\n",
        "    nacteny_soubor = pd.read_csv(slozka + os.sep + soubor).rename(columns={f'{rok + 1} PRICE VAR [%]': 'EoY PRICE VAR [%]', \"Unnamed: 0\": \"ticker\"})\n",
        "    # připoj načtený soubor do dat\n",
        "    data = pd.concat([data, nacteny_soubor], ignore_index=True)\n",
        "\n",
        "data.to_csv('Komplet_Financial_Data.csv', index=False)"
      ]
    },
    {
      "cell_type": "markdown",
      "metadata": {
        "id": "fYWM3qQO_ys2"
      },
      "source": [
        "### Načtení dat"
      ]
    },
    {
      "cell_type": "code",
      "execution_count": null,
      "metadata": {
        "colab": {
          "base_uri": "https://localhost:8080/"
        },
        "collapsed": true,
        "id": "lsx1Q6ILejLH",
        "outputId": "348c178a-9b48-43c6-ead9-60adf36fa81a"
      },
      "outputs": [
        {
          "output_type": "stream",
          "name": "stdout",
          "text": [
            "  ticker       Revenue  Revenue Growth  Cost of Revenue  Gross Profit  \\\n",
            "0  CMCSA  9.450700e+10          0.1115     0.000000e+00  9.450700e+10   \n",
            "1    KMI  1.414400e+10          0.0320     7.288000e+09  6.856000e+09   \n",
            "2   INTC  7.084800e+10          0.1289     2.711100e+10  4.373700e+10   \n",
            "3     MU  3.039100e+10          0.4955     1.250000e+10  1.789100e+10   \n",
            "4     GE  1.216150e+11          0.0285     9.546100e+10  2.615400e+10   \n",
            "\n",
            "   R&D Expenses  SG&A Expense  Operating Expenses  Operating Income  \\\n",
            "0  0.000000e+00  6.482200e+10        7.549800e+10      1.900900e+10   \n",
            "1  0.000000e+00  6.010000e+08        3.062000e+09      3.794000e+09   \n",
            "2  1.354300e+10  6.750000e+09        2.042100e+10      2.331600e+10   \n",
            "3  2.141000e+09  8.130000e+08        2.897000e+09      1.499400e+10   \n",
            "4  0.000000e+00  1.811100e+10        4.071100e+10     -1.455700e+10   \n",
            "\n",
            "   Interest Expense  ...  Receivables growth  Inventory Growth  Asset Growth  \\\n",
            "0      3.542000e+09  ...              0.2570            0.0000        0.3426   \n",
            "1      1.917000e+09  ...              0.0345           -0.0920       -0.0024   \n",
            "2     -1.260000e+08  ...              0.1989            0.0387        0.0382   \n",
            "3      3.420000e+08  ...              0.4573            0.1511        0.2275   \n",
            "4      5.059000e+09  ...             -0.2781           -0.2892       -0.1575   \n",
            "\n",
            "   Book Value per Share Growth  Debt Growth  R&D Expense Growth  \\\n",
            "0                       0.0722       0.7309              0.0000   \n",
            "1                       0.0076      -0.0137              0.0000   \n",
            "2                       0.1014      -0.0169              0.0390   \n",
            "3                       0.6395      -0.5841              0.1738   \n",
            "4                      -0.4487      -0.2297              0.0000   \n",
            "\n",
            "   SG&A Expenses Growth             Sector  EoY PRICE VAR [%]  Class  \n",
            "0                0.1308  Consumer Cyclical          32.794573      1  \n",
            "1               -0.1265             Energy          40.588068      1  \n",
            "2               -0.0942         Technology          30.295514      1  \n",
            "3                0.0942         Technology          64.213737      1  \n",
            "4                0.0308        Industrials          44.757840      1  \n",
            "\n",
            "[5 rows x 225 columns]\n",
            "<class 'pandas.core.frame.DataFrame'>\n",
            "RangeIndex: 22077 entries, 0 to 22076\n",
            "Columns: 225 entries, ticker to Class\n",
            "dtypes: float64(222), int64(1), object(2)\n",
            "memory usage: 37.9+ MB\n",
            "None\n"
          ]
        }
      ],
      "source": [
        "df = pd.read_csv('Komplet_Financial_Data.csv')\n",
        "\n",
        "# Overenie načítania dát\n",
        "print(df.head())  # Zobrazenie prvých 5 riadkov\n",
        "print(df.info())  # Informácie o dátach a stĺpcoch"
      ]
    },
    {
      "cell_type": "code",
      "execution_count": null,
      "metadata": {
        "colab": {
          "base_uri": "https://localhost:8080/"
        },
        "collapsed": true,
        "id": "CMile5Kqe1rN",
        "outputId": "91297f5a-c416-48a5-dad1-773ba43ca916"
      },
      "outputs": [
        {
          "output_type": "stream",
          "name": "stdout",
          "text": [
            "            Revenue  Revenue Growth  Cost of Revenue  Gross Profit  \\\n",
            "count  2.090600e+04    19989.000000     2.030600e+04  2.087000e+04   \n",
            "mean   5.161619e+09        3.622214     3.258565e+09  1.970452e+09   \n",
            "std    3.197314e+10      312.648170     2.583092e+10  8.735750e+09   \n",
            "min   -6.276160e+08      -12.769300    -2.986888e+09 -1.280800e+10   \n",
            "25%    5.880737e+07       -0.014700     3.211750e+06  3.035575e+07   \n",
            "50%    4.352510e+08        0.057600     1.530115e+08  1.943525e+08   \n",
            "75%    2.287259e+09        0.182400     1.180224e+09  8.806035e+08   \n",
            "max    1.886894e+12    42138.663900     1.581527e+12  4.621600e+11   \n",
            "\n",
            "       R&D Expenses  SG&A Expense  Operating Expenses  Operating Income  \\\n",
            "count  1.993900e+04  2.040800e+04        2.037500e+04      2.097600e+04   \n",
            "mean   1.033333e+08  8.699279e+08        1.368670e+09      5.896979e+08   \n",
            "std    7.676062e+08  3.804283e+09        5.662984e+09      2.976454e+09   \n",
            "min   -1.098000e+08 -1.401594e+08       -5.495512e+09     -1.933900e+10   \n",
            "25%    0.000000e+00  1.768550e+07        3.564150e+07     -4.433750e+06   \n",
            "50%    0.000000e+00  8.062450e+07        1.564000e+08      3.585350e+07   \n",
            "75%    1.220150e+07  3.699722e+08        6.210870e+08      2.554363e+08   \n",
            "max    2.883700e+10  1.856830e+11        3.056050e+11      1.565540e+11   \n",
            "\n",
            "       Interest Expense  Earnings before Tax  ...  \\\n",
            "count      2.035800e+04         2.071300e+04  ...   \n",
            "mean       9.778939e+07         4.925003e+08  ...   \n",
            "std        4.996543e+08         2.484345e+09  ...   \n",
            "min       -1.710954e+09        -2.177200e+10  ...   \n",
            "25%        0.000000e+00        -8.745000e+06  ...   \n",
            "50%        3.697000e+06         2.380000e+07  ...   \n",
            "75%        4.969325e+07         1.964680e+08  ...   \n",
            "max        3.152300e+10         8.720500e+10  ...   \n",
            "\n",
            "       3Y Dividend per Share Growth (per Share)  Receivables growth  \\\n",
            "count                              18264.000000        19952.000000   \n",
            "mean                                   0.012298           10.978239   \n",
            "std                                    0.263079         1101.098165   \n",
            "min                                   -1.000000           -1.000000   \n",
            "25%                                    0.000000           -0.051125   \n",
            "50%                                    0.000000            0.009500   \n",
            "75%                                    0.040000            0.200550   \n",
            "max                                    5.400500       153332.333300   \n",
            "\n",
            "       Inventory Growth  Asset Growth  Book Value per Share Growth  \\\n",
            "count      19650.000000  19690.000000                 19213.000000   \n",
            "mean           0.158858      1.134221                     0.783208   \n",
            "std            3.268154     45.381079                    66.524006   \n",
            "min           -1.000000     -1.000000                 -3963.131200   \n",
            "25%            0.000000     -0.031075                    -0.103800   \n",
            "50%            0.000000      0.048000                     0.032400   \n",
            "75%            0.058400      0.176800                     0.142100   \n",
            "max          293.473000   5468.426400                  7039.325900   \n",
            "\n",
            "        Debt Growth  R&D Expense Growth  SG&A Expenses Growth  \\\n",
            "count  19462.000000        19598.000000          19655.000000   \n",
            "mean       3.733922            0.295610              0.365149   \n",
            "std      174.864701           12.974127             15.030054   \n",
            "min       -1.051000           -2.662200             -2.369900   \n",
            "25%       -0.067475            0.000000             -0.013700   \n",
            "50%        0.000000            0.000000              0.061000   \n",
            "75%        0.150075            0.000000              0.185350   \n",
            "max    17646.823500         1542.611000           2042.000000   \n",
            "\n",
            "       EoY PRICE VAR [%]         Class  \n",
            "count       2.207700e+04  22077.000000  \n",
            "mean        2.698893e+02      0.550754  \n",
            "std         1.934617e+04      0.497429  \n",
            "min        -1.003972e+02      0.000000  \n",
            "25%        -1.947409e+01      0.000000  \n",
            "50%         3.909087e+00      1.000000  \n",
            "75%         2.750567e+01      1.000000  \n",
            "max         2.418601e+06      1.000000  \n",
            "\n",
            "[8 rows x 223 columns]\n"
          ]
        }
      ],
      "source": [
        "print(df.describe())"
      ]
    },
    {
      "cell_type": "code",
      "execution_count": null,
      "metadata": {
        "colab": {
          "base_uri": "https://localhost:8080/"
        },
        "id": "KtSNXGnye9d_",
        "outputId": "bf3ec285-2948-44c8-8a89-ce9ef7767679"
      },
      "outputs": [
        {
          "output_type": "stream",
          "name": "stdout",
          "text": [
            "ticker                     0\n",
            "Revenue                 1171\n",
            "Revenue Growth          2088\n",
            "Cost of Revenue         1771\n",
            "Gross Profit            1207\n",
            "                        ... \n",
            "R&D Expense Growth      2479\n",
            "SG&A Expenses Growth    2422\n",
            "Sector                     0\n",
            "EoY PRICE VAR [%]          0\n",
            "Class                      0\n",
            "Length: 225, dtype: int64\n",
            "ticker                   0.000000\n",
            "Revenue                  5.304163\n",
            "Revenue Growth           9.457807\n",
            "Cost of Revenue          8.021923\n",
            "Gross Profit             5.467228\n",
            "                          ...    \n",
            "R&D Expense Growth      11.228881\n",
            "SG&A Expenses Growth    10.970693\n",
            "Sector                   0.000000\n",
            "EoY PRICE VAR [%]        0.000000\n",
            "Class                    0.000000\n",
            "Length: 225, dtype: float64\n"
          ]
        }
      ],
      "source": [
        "# chybějící hodnoty\n",
        "print(df.isnull().sum())\n",
        "missing_percentage = (df.isnull().sum() / len(df)) * 100\n",
        "# v procentech\n",
        "print(missing_percentage)"
      ]
    },
    {
      "cell_type": "code",
      "execution_count": null,
      "metadata": {
        "colab": {
          "base_uri": "https://localhost:8080/"
        },
        "id": "tBvWgKaRjO8I",
        "outputId": "16b04368-fa49-40b1-fb2d-4c8f59cf8d02"
      },
      "outputs": [
        {
          "output_type": "stream",
          "name": "stdout",
          "text": [
            "ticker\n",
            "Sector\n"
          ]
        }
      ],
      "source": [
        "# najdi všechny textové sloupce\n",
        "for sloupec in df.columns:\n",
        "    if df[sloupec].dtypes == \"O\":\n",
        "        print(sloupec)"
      ]
    },
    {
      "cell_type": "code",
      "execution_count": null,
      "metadata": {
        "id": "63vJAE9k_ys3"
      },
      "outputs": [],
      "source": [
        "# ticker konkrétní firmy nebereme pro predikce\n",
        "del df[\"ticker\"]"
      ]
    },
    {
      "cell_type": "code",
      "execution_count": null,
      "metadata": {
        "colab": {
          "base_uri": "https://localhost:8080/"
        },
        "id": "YeezAZXzjuSw",
        "outputId": "eac5c2b8-e887-407d-883a-7be051491537"
      },
      "outputs": [
        {
          "output_type": "stream",
          "name": "stdout",
          "text": [
            "Počet unikátnych hodnôt: 11\n",
            "['Consumer Cyclical' 'Energy' 'Technology' 'Industrials'\n",
            " 'Financial Services' 'Basic Materials' 'Communication Services'\n",
            " 'Consumer Defensive' 'Healthcare' 'Real Estate' 'Utilities']\n"
          ]
        }
      ],
      "source": [
        "# kolik unikátních sektorů?\n",
        "unique_count = df['Sector'].nunique()\n",
        "print(f'Počet unikátnych hodnôt: {unique_count}')\n",
        "# Zobraziť unikátne hodnoty\n",
        "print(df['Sector'].unique())"
      ]
    },
    {
      "cell_type": "code",
      "execution_count": null,
      "metadata": {
        "collapsed": true,
        "id": "TNNja0MAyFS2"
      },
      "outputs": [],
      "source": [
        "# Aplikovať One-Hot Encoding na správny stĺpec\n",
        "df_encoded = pd.get_dummies(df, columns=['Sector'], dtype=int)"
      ]
    },
    {
      "cell_type": "code",
      "execution_count": null,
      "metadata": {
        "colab": {
          "base_uri": "https://localhost:8080/"
        },
        "id": "Yj6ilHSQyYKX",
        "outputId": "d87cac35-0baf-4215-e9f3-2b50b223a1d7",
        "collapsed": true
      },
      "outputs": [
        {
          "output_type": "stream",
          "name": "stdout",
          "text": [
            "                     Revenue  Revenue Growth  Cost of Revenue  Gross Profit  \\\n",
            "Revenue             1.000000       -0.002762         0.978873      0.803631   \n",
            "Revenue Growth     -0.002762        1.000000        -0.002322     -0.002995   \n",
            "Cost of Revenue     0.978873       -0.002322         1.000000      0.664948   \n",
            "Gross Profit        0.803631       -0.002995         0.664948      1.000000   \n",
            "R&D Expenses        0.342421       -0.001327         0.277569      0.460968   \n",
            "...                      ...             ...              ...           ...   \n",
            "Sector_Healthcare  -0.025351        0.005605        -0.020154     -0.037543   \n",
            "Sector_Industrials -0.015760       -0.004122        -0.011886     -0.026604   \n",
            "Sector_Real Estate -0.033306       -0.002348        -0.026326     -0.041915   \n",
            "Sector_Technology  -0.020081       -0.004292        -0.019353     -0.020697   \n",
            "Sector_Utilities    0.000783       -0.001783         0.001630     -0.003323   \n",
            "\n",
            "                    R&D Expenses  SG&A Expense  Operating Expenses  \\\n",
            "Revenue                 0.342421      0.581138            0.810497   \n",
            "Revenue Growth         -0.001327     -0.002722           -0.002880   \n",
            "Cost of Revenue         0.277569      0.438070            0.610563   \n",
            "Gross Profit            0.460968      0.847257            0.956302   \n",
            "R&D Expenses            1.000000      0.284509            0.389132   \n",
            "...                          ...           ...                 ...   \n",
            "Sector_Healthcare       0.053011     -0.029529           -0.034240   \n",
            "Sector_Industrials     -0.031932     -0.020239           -0.027792   \n",
            "Sector_Real Estate     -0.032563     -0.050798           -0.047964   \n",
            "Sector_Technology       0.125262     -0.031459           -0.027481   \n",
            "Sector_Utilities       -0.021116     -0.029691           -0.012054   \n",
            "\n",
            "                    Operating Income  Interest Expense  Earnings before Tax  \\\n",
            "Revenue                     0.664840          0.626497             0.667234   \n",
            "Revenue Growth             -0.002662         -0.002699            -0.002629   \n",
            "Cost of Revenue             0.465968          0.567145             0.487396   \n",
            "Gross Profit                0.845929          0.638521             0.816913   \n",
            "R&D Expenses                0.397971          0.180715             0.474353   \n",
            "...                              ...               ...                  ...   \n",
            "Sector_Healthcare          -0.044384         -0.046798            -0.039752   \n",
            "Sector_Industrials         -0.023232         -0.018437            -0.022321   \n",
            "Sector_Real Estate         -0.032920         -0.003692            -0.032395   \n",
            "Sector_Technology          -0.006485         -0.056740             0.007794   \n",
            "Sector_Utilities            0.015491          0.073600             0.010978   \n",
            "\n",
            "                    ...  Sector_Communication Services  \\\n",
            "Revenue             ...                       0.060047   \n",
            "Revenue Growth      ...                      -0.001538   \n",
            "Cost of Revenue     ...                       0.019471   \n",
            "Gross Profit        ...                       0.145511   \n",
            "R&D Expenses        ...                      -0.015596   \n",
            "...                 ...                            ...   \n",
            "Sector_Healthcare   ...                      -0.060181   \n",
            "Sector_Industrials  ...                      -0.054304   \n",
            "Sector_Real Estate  ...                      -0.035003   \n",
            "Sector_Technology   ...                      -0.058252   \n",
            "Sector_Utilities    ...                      -0.022232   \n",
            "\n",
            "                    Sector_Consumer Cyclical  Sector_Consumer Defensive  \\\n",
            "Revenue                             0.007640                   0.045808   \n",
            "Revenue Growth                     -0.003936                  -0.002378   \n",
            "Cost of Revenue                     0.010422                   0.041718   \n",
            "Gross Profit                       -0.005066                   0.044298   \n",
            "R&D Expenses                       -0.029544                  -0.027604   \n",
            "...                                      ...                        ...   \n",
            "Sector_Healthcare                  -0.148961                  -0.087597   \n",
            "Sector_Industrials                 -0.134414                  -0.079043   \n",
            "Sector_Real Estate                 -0.086640                  -0.050949   \n",
            "Sector_Technology                  -0.144185                  -0.084789   \n",
            "Sector_Utilities                   -0.055029                  -0.032360   \n",
            "\n",
            "                    Sector_Energy  Sector_Financial Services  \\\n",
            "Revenue                  0.052349                  -0.000239   \n",
            "Revenue Growth          -0.002480                   0.012948   \n",
            "Cost of Revenue          0.057091                  -0.005966   \n",
            "Gross Profit             0.029040                   0.033227   \n",
            "R&D Expenses             0.000539                  -0.051687   \n",
            "...                           ...                        ...   \n",
            "Sector_Healthcare       -0.101349                  -0.218808   \n",
            "Sector_Industrials      -0.091452                  -0.197441   \n",
            "Sector_Real Estate      -0.058948                  -0.127266   \n",
            "Sector_Technology       -0.098099                  -0.211793   \n",
            "Sector_Utilities        -0.037440                  -0.080832   \n",
            "\n",
            "                    Sector_Healthcare  Sector_Industrials  Sector_Real Estate  \\\n",
            "Revenue                     -0.025351           -0.015760           -0.033306   \n",
            "Revenue Growth               0.005605           -0.004122           -0.002348   \n",
            "Cost of Revenue             -0.020154           -0.011886           -0.026326   \n",
            "Gross Profit                -0.037543           -0.026604           -0.041915   \n",
            "R&D Expenses                 0.053011           -0.031932           -0.032563   \n",
            "...                               ...                 ...                 ...   \n",
            "Sector_Healthcare            1.000000           -0.158867           -0.102402   \n",
            "Sector_Industrials          -0.158867            1.000000           -0.092402   \n",
            "Sector_Real Estate          -0.102402           -0.092402            1.000000   \n",
            "Sector_Technology           -0.170415           -0.153774           -0.099119   \n",
            "Sector_Utilities            -0.065040           -0.058689           -0.037829   \n",
            "\n",
            "                    Sector_Technology  Sector_Utilities  \n",
            "Revenue                     -0.020081          0.000783  \n",
            "Revenue Growth              -0.004292         -0.001783  \n",
            "Cost of Revenue             -0.019353          0.001630  \n",
            "Gross Profit                -0.020697         -0.003323  \n",
            "R&D Expenses                 0.125262         -0.021116  \n",
            "...                               ...               ...  \n",
            "Sector_Healthcare           -0.170415         -0.065040  \n",
            "Sector_Industrials          -0.153774         -0.058689  \n",
            "Sector_Real Estate          -0.099119         -0.037829  \n",
            "Sector_Technology            1.000000         -0.062955  \n",
            "Sector_Utilities            -0.062955          1.000000  \n",
            "\n",
            "[234 rows x 234 columns]\n"
          ]
        }
      ],
      "source": [
        "correlation_matrix = df_encoded.corr()\n",
        "# Zobrazenie korelačnej matice\n",
        "print(correlation_matrix)"
      ]
    },
    {
      "cell_type": "markdown",
      "source": [],
      "metadata": {
        "id": "qrILOf56JWTk"
      }
    },
    {
      "cell_type": "code",
      "source": [
        "# korelácia cieľovej premennej 'Class'\n",
        "target_corr = correlation_matrix['Class'].sort_values(ascending=False)\n",
        "top_20_corr = target_corr.head(20)\n",
        "print(top_20_corr)"
      ],
      "metadata": {
        "colab": {
          "base_uri": "https://localhost:8080/"
        },
        "id": "MrEqJVPdT8CF",
        "outputId": "14f4b606-107e-4a96-d310-e2195678f8c0"
      },
      "execution_count": 47,
      "outputs": [
        {
          "output_type": "stream",
          "name": "stdout",
          "text": [
            "Class                                         1.000000\n",
            "operatingCycle                                0.288801\n",
            "cashConversionCycle                           0.101949\n",
            "Sector_Financial Services                     0.084722\n",
            "10Y Shareholders Equity Growth (per Share)    0.077856\n",
            "10Y Revenue Growth (per Share)                0.076761\n",
            "10Y Operating CF Growth (per Share)           0.069861\n",
            "5Y Revenue Growth (per Share)                 0.065612\n",
            "10Y Net Income Growth (per Share)             0.064099\n",
            "Enterprise Value                              0.057766\n",
            "5Y Operating CF Growth (per Share)            0.055498\n",
            "5Y Dividend per Share Growth (per Share)      0.055429\n",
            "5Y Net Income Growth (per Share)              0.049727\n",
            "3Y Dividend per Share Growth (per Share)      0.049497\n",
            "10Y Dividend per Share Growth (per Share)     0.048844\n",
            "Sector_Utilities                              0.047351\n",
            "Gross Margin                                  0.040388\n",
            "Earnings before Tax                           0.039266\n",
            "Sector_Real Estate                            0.038948\n",
            "Free Cash Flow                                0.038629\n",
            "Name: Class, dtype: float64\n"
          ]
        }
      ]
    },
    {
      "cell_type": "code",
      "source": [
        "# vizualizácia korelácie cieľovej premennej 'Class'\n",
        "plt.figure(figsize=(12, 8))\n",
        "sns.barplot(x=top_20_corr.index, y=top_20_corr.values, palette='coolwarm')\n",
        "plt.xticks(rotation=90)\n",
        "plt.xlabel('Premenné')\n",
        "plt.ylabel('Korelácia s Class')\n",
        "plt.title('Top 20 korelácia premenných s cieľovou premennou Class')\n",
        "plt.show()"
      ],
      "metadata": {
        "colab": {
          "base_uri": "https://localhost:8080/",
          "height": 1000
        },
        "id": "CRMpdnXTUBTU",
        "outputId": "faf77363-d6ee-4cb5-d3d4-e3a316127e2a"
      },
      "execution_count": 48,
      "outputs": [
        {
          "output_type": "stream",
          "name": "stderr",
          "text": [
            "<ipython-input-48-46eb1de5be3b>:3: FutureWarning: \n",
            "\n",
            "Passing `palette` without assigning `hue` is deprecated and will be removed in v0.14.0. Assign the `x` variable to `hue` and set `legend=False` for the same effect.\n",
            "\n",
            "  sns.barplot(x=top_20_corr.index, y=top_20_corr.values, palette='coolwarm')\n"
          ]
        },
        {
          "output_type": "display_data",
          "data": {
            "text/plain": [
              "<Figure size 1200x800 with 1 Axes>"
            ],
            "image/png": "[encoded data removed]"
          },
          "metadata": {}
        }
      ]
    },
    {
      "cell_type": "code",
      "source": [
        "# oddelenie cieľovej premennej a funkcií\n",
        "X = df_encoded.drop(columns=['Class'])\n",
        "y = df_encoded['Class']\n",
        "\n",
        "# rozdelenie dát na trénovaciu a testovaciu množinu\n",
        "X_train, X_test, y_train, y_test = train_test_split(X, y, test_size=0.3, random_state=42, stratify=y)\n"
      ],
      "metadata": {
        "id": "tqgknffjUF7c"
      },
      "execution_count": 67,
      "outputs": []
    },
    {
      "cell_type": "markdown",
      "source": [],
      "metadata": {
        "id": "4Y3OnF0ZXV-e"
      }
    },
    {
      "cell_type": "code",
      "source": [
        "from sklearn.preprocessing import MinMaxScaler\n",
        "\n",
        "# Inicializácia škálovača\n",
        "scaler = MinMaxScaler()\n",
        "\n",
        "# Fit a transformácia trénovacích dát, transformácia testovacích dát\n",
        "X_train_scaled = scaler.fit_transform(X_train)\n",
        "X_test_scaled = scaler.transform(X_test)"
      ],
      "metadata": {
        "id": "JqNHGTHvXoTc"
      },
      "execution_count": 76,
      "outputs": []
    },
    {
      "cell_type": "code",
      "source": [
        "print(\"Chýbajúce hodnoty v X_train:\")\n",
        "print(pd.DataFrame(X_train).isnull().sum())\n",
        "\n",
        "print(\"Chýbajúce hodnoty v X_test:\")\n",
        "print(pd.DataFrame(X_test).isnull().sum())"
      ],
      "metadata": {
        "colab": {
          "base_uri": "https://localhost:8080/"
        },
        "id": "hNAqF4EyX0tm",
        "outputId": "63ab2c21-6193-4cf8-c678-f5c9ee01779b"
      },
      "execution_count": 72,
      "outputs": [
        {
          "output_type": "stream",
          "name": "stdout",
          "text": [
            "Chýbajúce hodnoty v X_train:\n",
            "Revenue                790\n",
            "Revenue Growth        1415\n",
            "Cost of Revenue       1213\n",
            "Gross Profit           818\n",
            "R&D Expenses          1435\n",
            "                      ... \n",
            "Sector_Healthcare        0\n",
            "Sector_Industrials       0\n",
            "Sector_Real Estate       0\n",
            "Sector_Technology        0\n",
            "Sector_Utilities         0\n",
            "Length: 233, dtype: int64\n",
            "Chýbajúce hodnoty v X_test:\n",
            "Revenue               381\n",
            "Revenue Growth        673\n",
            "Cost of Revenue       558\n",
            "Gross Profit          389\n",
            "R&D Expenses          703\n",
            "                     ... \n",
            "Sector_Healthcare       0\n",
            "Sector_Industrials      0\n",
            "Sector_Real Estate      0\n",
            "Sector_Technology       0\n",
            "Sector_Utilities        0\n",
            "Length: 233, dtype: int64\n"
          ]
        }
      ]
    },
    {
      "cell_type": "code",
      "source": [
        "# Odstránenie riadkov s chýbajúcimi hodnotami z X_train\n",
        "X_train_clean = pd.DataFrame(X_train).dropna()\n",
        "y_train_clean = y_train[X_train_clean.index]\n",
        "\n",
        "# Odstránenie riadkov s chýbajúcimi hodnotami z X_test\n",
        "X_test_clean = pd.DataFrame(X_test).dropna()\n",
        "y_test_clean = y_test[X_test_clean.index]"
      ],
      "metadata": {
        "id": "V6c69YWaX338"
      },
      "execution_count": 77,
      "outputs": []
    }
  ],
  "metadata": {
    "colab": {
      "provenance": []
    },
    "kernelspec": {
      "display_name": "Python 3",
      "name": "python3"
    },
    "language_info": {
      "codemirror_mode": {
        "name": "ipython",
        "version": 3
      },
      "file_extension": ".py",
      "mimetype": "text/x-python",
      "name": "python",
      "nbconvert_exporter": "python",
      "pygments_lexer": "ipython3",
      "version": "3.8.10"
    }
  },
  "nbformat": 4,
  "nbformat_minor": 0
}