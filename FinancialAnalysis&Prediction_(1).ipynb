{
  "cells": [
    {
      "cell_type": "code",
      "execution_count": 1,
      "metadata": {
        "id": "AeNYO9SmweCi"
      },
      "outputs": [],
      "source": [
        "import pandas as pd\n",
        "import numpy as np\n",
        "import os\n",
        "# plot\n",
        "import matplotlib.pyplot as plt\n",
        "import seaborn as sns\n",
        "#preprocessing\n",
        "from sklearn.preprocessing import MinMaxScaler\n",
        "from sklearn.model_selection import train_test_split\n",
        "#modelování\n",
        "from sklearn.neighbors import KNeighborsClassifier\n",
        "from sklearn.model_selection import GridSearchCV\n",
        "import pickle\n",
        "#vyhodnocení\n",
        "from sklearn.metrics import classification_report, confusion_matrix, balanced_accuracy_score"
      ]
    },
    {
      "cell_type": "markdown",
      "metadata": {
        "id": "nvgXDtv__ys0"
      },
      "source": [
        "### Spojení dat"
      ]
    },
    {
      "cell_type": "code",
      "execution_count": 46,
      "metadata": {
        "id": "e0ATKNoW_ys0"
      },
      "outputs": [],
      "source": [
        "sloupce = ['ticker',\n",
        " 'Revenue',\n",
        " 'Revenue Growth',\n",
        " 'Cost of Revenue',\n",
        " 'Gross Profit',\n",
        " 'R&D Expenses',\n",
        " 'SG&A Expense',\n",
        " 'Operating Expenses',\n",
        " 'Operating Income',\n",
        " 'Interest Expense',\n",
        " 'Earnings before Tax',\n",
        " 'Income Tax Expense',\n",
        " 'Net Income - Non-Controlling int',\n",
        " 'Net Income - Discontinued ops',\n",
        " 'Net Income',\n",
        " 'Preferred Dividends',\n",
        " 'Net Income Com',\n",
        " 'EPS',\n",
        " 'EPS Diluted',\n",
        " 'Weighted Average Shs Out',\n",
        " 'Weighted Average Shs Out (Dil)',\n",
        " 'Dividend per Share',\n",
        " 'Gross Margin',\n",
        " 'EBITDA Margin',\n",
        " 'EBIT Margin',\n",
        " 'Profit Margin',\n",
        " 'Free Cash Flow margin',\n",
        " 'EBITDA',\n",
        " 'EBIT',\n",
        " 'Consolidated Income',\n",
        " 'Earnings Before Tax Margin',\n",
        " 'Net Profit Margin',\n",
        " 'Cash and cash equivalents',\n",
        " 'Short-term investments',\n",
        " 'Cash and short-term investments',\n",
        " 'Receivables',\n",
        " 'Inventories',\n",
        " 'Total current assets',\n",
        " 'Property, Plant & Equipment Net',\n",
        " 'Goodwill and Intangible Assets',\n",
        " 'Long-term investments',\n",
        " 'Tax assets',\n",
        " 'Total non-current assets',\n",
        " 'Total assets',\n",
        " 'Payables',\n",
        " 'Short-term debt',\n",
        " 'Total current liabilities',\n",
        " 'Long-term debt',\n",
        " 'Total debt',\n",
        " 'Deferred revenue',\n",
        " 'Tax Liabilities',\n",
        " 'Deposit Liabilities',\n",
        " 'Total non-current liabilities',\n",
        " 'Total liabilities',\n",
        " 'Other comprehensive income',\n",
        " 'Retained earnings (deficit)',\n",
        " 'Total shareholders equity',\n",
        " 'Investments',\n",
        " 'Net Debt',\n",
        " 'Other Assets',\n",
        " 'Other Liabilities',\n",
        " 'Depreciation & Amortization',\n",
        " 'Stock-based compensation',\n",
        " 'Operating Cash Flow',\n",
        " 'Capital Expenditure',\n",
        " 'Acquisitions and disposals',\n",
        " 'Investment purchases and sales',\n",
        " 'Investing Cash flow',\n",
        " 'Issuance (repayment) of debt',\n",
        " 'Issuance (buybacks) of shares',\n",
        " 'Dividend payments',\n",
        " 'Financing Cash Flow',\n",
        " 'Effect of forex changes on cash',\n",
        " 'Net cash flow / Change in cash',\n",
        " 'Free Cash Flow',\n",
        " 'Net Cash/Marketcap',\n",
        " 'priceBookValueRatio',\n",
        " 'priceToBookRatio',\n",
        " 'priceToSalesRatio',\n",
        " 'priceEarningsRatio',\n",
        " 'priceToFreeCashFlowsRatio',\n",
        " 'priceToOperatingCashFlowsRatio',\n",
        " 'priceCashFlowRatio',\n",
        " 'priceEarningsToGrowthRatio',\n",
        " 'priceSalesRatio',\n",
        " 'dividendYield',\n",
        " 'enterpriseValueMultiple',\n",
        " 'priceFairValue',\n",
        " 'ebitperRevenue',\n",
        " 'ebtperEBIT',\n",
        " 'niperEBT',\n",
        " 'grossProfitMargin',\n",
        " 'operatingProfitMargin',\n",
        " 'pretaxProfitMargin',\n",
        " 'netProfitMargin',\n",
        " 'effectiveTaxRate',\n",
        " 'returnOnAssets',\n",
        " 'returnOnEquity',\n",
        " 'returnOnCapitalEmployed',\n",
        " 'nIperEBT',\n",
        " 'eBTperEBIT',\n",
        " 'eBITperRevenue',\n",
        " 'payablesTurnover',\n",
        " 'inventoryTurnover',\n",
        " 'fixedAssetTurnover',\n",
        " 'assetTurnover',\n",
        " 'currentRatio',\n",
        " 'quickRatio',\n",
        " 'cashRatio',\n",
        " 'daysOfSalesOutstanding',\n",
        " 'daysOfInventoryOutstanding',\n",
        " 'operatingCycle',\n",
        " 'daysOfPayablesOutstanding',\n",
        " 'cashConversionCycle',\n",
        " 'debtRatio',\n",
        " 'debtEquityRatio',\n",
        " 'longtermDebtToCapitalization',\n",
        " 'totalDebtToCapitalization',\n",
        " 'interestCoverage',\n",
        " 'cashFlowToDebtRatio',\n",
        " 'companyEquityMultiplier',\n",
        " 'operatingCashFlowPerShare',\n",
        " 'freeCashFlowPerShare',\n",
        " 'cashPerShare',\n",
        " 'payoutRatio',\n",
        " 'operatingCashFlowSalesRatio',\n",
        " 'freeCashFlowOperatingCashFlowRatio',\n",
        " 'cashFlowCoverageRatios',\n",
        " 'shortTermCoverageRatios',\n",
        " 'capitalExpenditureCoverageRatios',\n",
        " 'dividendpaidAndCapexCoverageRatios',\n",
        " 'dividendPayoutRatio',\n",
        " 'Revenue per Share',\n",
        " 'Net Income per Share',\n",
        " 'Operating Cash Flow per Share',\n",
        " 'Free Cash Flow per Share',\n",
        " 'Cash per Share',\n",
        " 'Book Value per Share',\n",
        " 'Tangible Book Value per Share',\n",
        " 'Shareholders Equity per Share',\n",
        " 'Interest Debt per Share',\n",
        " 'Market Cap',\n",
        " 'Enterprise Value',\n",
        " 'PE ratio',\n",
        " 'Price to Sales Ratio',\n",
        " 'POCF ratio',\n",
        " 'PFCF ratio',\n",
        " 'PB ratio',\n",
        " 'PTB ratio',\n",
        " 'EV to Sales',\n",
        " 'Enterprise Value over EBITDA',\n",
        " 'EV to Operating cash flow',\n",
        " 'EV to Free cash flow',\n",
        " 'Earnings Yield',\n",
        " 'Free Cash Flow Yield',\n",
        " 'Debt to Equity',\n",
        " 'Debt to Assets',\n",
        " 'Net Debt to EBITDA',\n",
        " 'Current ratio',\n",
        " 'Interest Coverage',\n",
        " 'Income Quality',\n",
        " 'Dividend Yield',\n",
        " 'Payout Ratio',\n",
        " 'SG&A to Revenue',\n",
        " 'R&D to Revenue',\n",
        " 'Intangibles to Total Assets',\n",
        " 'Capex to Operating Cash Flow',\n",
        " 'Capex to Revenue',\n",
        " 'Capex to Depreciation',\n",
        " 'Stock-based compensation to Revenue',\n",
        " 'Graham Number',\n",
        " 'ROIC',\n",
        " 'Return on Tangible Assets',\n",
        " 'Graham Net-Net',\n",
        " 'Working Capital',\n",
        " 'Tangible Asset Value',\n",
        " 'Net Current Asset Value',\n",
        " 'Invested Capital',\n",
        " 'Average Receivables',\n",
        " 'Average Payables',\n",
        " 'Average Inventory',\n",
        " 'Days Sales Outstanding',\n",
        " 'Days Payables Outstanding',\n",
        " 'Days of Inventory on Hand',\n",
        " 'Receivables Turnover',\n",
        " 'Payables Turnover',\n",
        " 'Inventory Turnover',\n",
        " 'ROE',\n",
        " 'Capex per Share',\n",
        " 'Gross Profit Growth',\n",
        " 'EBIT Growth',\n",
        " 'Operating Income Growth',\n",
        " 'Net Income Growth',\n",
        " 'EPS Growth',\n",
        " 'EPS Diluted Growth',\n",
        " 'Weighted Average Shares Growth',\n",
        " 'Weighted Average Shares Diluted Growth',\n",
        " 'Dividends per Share Growth',\n",
        " 'Operating Cash Flow growth',\n",
        " 'Free Cash Flow growth',\n",
        " '10Y Revenue Growth (per Share)',\n",
        " '5Y Revenue Growth (per Share)',\n",
        " '3Y Revenue Growth (per Share)',\n",
        " '10Y Operating CF Growth (per Share)',\n",
        " '5Y Operating CF Growth (per Share)',\n",
        " '3Y Operating CF Growth (per Share)',\n",
        " '10Y Net Income Growth (per Share)',\n",
        " '5Y Net Income Growth (per Share)',\n",
        " '3Y Net Income Growth (per Share)',\n",
        " '10Y Shareholders Equity Growth (per Share)',\n",
        " '5Y Shareholders Equity Growth (per Share)',\n",
        " '3Y Shareholders Equity Growth (per Share)',\n",
        " '10Y Dividend per Share Growth (per Share)',\n",
        " '5Y Dividend per Share Growth (per Share)',\n",
        " '3Y Dividend per Share Growth (per Share)',\n",
        " 'Receivables growth',\n",
        " 'Inventory Growth',\n",
        " 'Asset Growth',\n",
        " 'Book Value per Share Growth',\n",
        " 'Debt Growth',\n",
        " 'R&D Expense Growth',\n",
        " 'SG&A Expenses Growth',\n",
        " 'Sector',\n",
        " 'EoY PRICE VAR [%]',\n",
        " 'Class']"
      ]
    },
    {
      "cell_type": "code",
      "execution_count": 47,
      "metadata": {
        "colab": {
          "base_uri": "https://localhost:8080/"
        },
        "id": "0ziAKMF5_ys1",
        "outputId": "683141e1-d099-472c-ca01-352fb8934eb8"
      },
      "outputs": [],
      "source": [
        "# ve které složce jsou data\n",
        "slozka = \"data\"\n",
        "# základní dataframe, ke kterému budu přidávat načtená data\n",
        "data = pd.DataFrame(columns=sloupce)\n",
        "# pro každý soubor ze složky\n",
        "for soubor in os.listdir(slozka):\n",
        "    # vyčti rok ze jména souboru\n",
        "    rok = int(soubor.split(\"_\")[0])\n",
        "    # načti soubor a přejmenuj sloupce\n",
        "    nacteny_soubor = pd.read_csv(slozka + os.sep + soubor).rename(columns={f'{rok + 1} PRICE VAR [%]': 'EoY PRICE VAR [%]', \"Unnamed: 0\": \"ticker\"})\n",
        "    # připoj načtený soubor do dat\n",
        "    data = pd.concat([data, nacteny_soubor], ignore_index=True)\n",
        "\n",
        "data.to_csv('Komplet_Financial_Data.csv', index=False)"
      ]
    },
    {
      "cell_type": "markdown",
      "metadata": {
        "id": "fYWM3qQO_ys2"
      },
      "source": [
        "### Načtení dat"
      ]
    },
    {
      "cell_type": "code",
      "execution_count": 48,
      "metadata": {
        "colab": {
          "base_uri": "https://localhost:8080/"
        },
        "collapsed": true,
        "id": "lsx1Q6ILejLH",
        "outputId": "348c178a-9b48-43c6-ead9-60adf36fa81a"
      },
      "outputs": [
        {
          "name": "stdout",
          "output_type": "stream",
          "text": [
            "  ticker       Revenue  Revenue Growth  Cost of Revenue  Gross Profit  \\\n",
            "0     PG  7.440100e+10         -0.0713     3.903000e+10  3.537100e+10   \n",
            "1   VIPS  3.734148e+09          1.1737     2.805625e+09  9.285226e+08   \n",
            "2     KR  9.837500e+10          0.0182     7.813800e+10  2.023700e+10   \n",
            "3    RAD  2.552641e+10          0.0053     1.820268e+10  7.323734e+09   \n",
            "4    GIS  1.790960e+10          0.0076     1.153980e+10  6.369800e+09   \n",
            "\n",
            "   R&D Expenses  SG&A Expense  Operating Expenses  Operating Income  \\\n",
            "0  0.000000e+00  2.146100e+10        2.146100e+10      1.391000e+10   \n",
            "1  1.083303e+08  3.441414e+08        7.939267e+08      1.345959e+08   \n",
            "2  0.000000e+00  1.519600e+10        1.751200e+10      2.725000e+09   \n",
            "3  0.000000e+00  6.561162e+09        6.586482e+09      7.372520e+08   \n",
            "4  0.000000e+00  3.474300e+09        3.412400e+09      2.957400e+09   \n",
            "\n",
            "   Interest Expense  ...  Receivables growth  Inventory Growth  Asset Growth  \\\n",
            "0      7.090000e+08  ...             -0.0187           -0.0217        0.0359   \n",
            "1      1.214869e+07  ...                 NaN               NaN           NaN   \n",
            "2      4.430000e+08  ...              0.0618            0.0981        0.1886   \n",
            "3      4.245910e+08  ...              0.0211           -0.0510       -0.0189   \n",
            "4      3.024000e+08  ...              0.0257            0.0090        0.0215   \n",
            "\n",
            "   Book Value per Share Growth  Debt Growth  R&D Expense Growth  \\\n",
            "0                       0.0316       0.1228              0.0000   \n",
            "1                          NaN          NaN              1.6484   \n",
            "2                       0.3268       0.2738              0.0000   \n",
            "3                       0.1963      -0.0458              0.0000   \n",
            "4                       0.0274       0.1025              0.0000   \n",
            "\n",
            "   SG&A Expenses Growth              Sector  EoY PRICE VAR [%]  Class  \n",
            "0               -0.1746  Consumer Defensive          -9.323276      0  \n",
            "1                1.7313  Consumer Defensive         -25.512193      0  \n",
            "2                0.0234  Consumer Defensive          33.118297      1  \n",
            "3               -0.0060  Consumer Defensive           2.752291      1  \n",
            "4               -0.0220  Consumer Defensive          12.897715      1  \n",
            "\n",
            "[5 rows x 225 columns]\n",
            "<class 'pandas.core.frame.DataFrame'>\n",
            "RangeIndex: 22077 entries, 0 to 22076\n",
            "Columns: 225 entries, ticker to Class\n",
            "dtypes: float64(222), int64(1), object(2)\n",
            "memory usage: 37.9+ MB\n",
            "None\n"
          ]
        }
      ],
      "source": [
        "df = pd.read_csv('Komplet_Financial_Data.csv')\n",
        "\n",
        "# Overenie načítania dát\n",
        "print(df.head())  # Zobrazenie prvých 5 riadkov\n",
        "print(df.info())  # Informácie o dátach a stĺpcoch"
      ]
    },
    {
      "cell_type": "code",
      "execution_count": 49,
      "metadata": {
        "colab": {
          "base_uri": "https://localhost:8080/"
        },
        "collapsed": true,
        "id": "CMile5Kqe1rN",
        "outputId": "91297f5a-c416-48a5-dad1-773ba43ca916"
      },
      "outputs": [
        {
          "name": "stdout",
          "output_type": "stream",
          "text": [
            "            Revenue  Revenue Growth  Cost of Revenue  Gross Profit  \\\n",
            "count  2.090600e+04    19989.000000     2.030600e+04  2.087000e+04   \n",
            "mean   5.161619e+09        3.622214     3.258565e+09  1.970452e+09   \n",
            "std    3.197314e+10      312.648170     2.583092e+10  8.735750e+09   \n",
            "min   -6.276160e+08      -12.769300    -2.986888e+09 -1.280800e+10   \n",
            "25%    5.880737e+07       -0.014700     3.211750e+06  3.035575e+07   \n",
            "50%    4.352510e+08        0.057600     1.530115e+08  1.943525e+08   \n",
            "75%    2.287259e+09        0.182400     1.180224e+09  8.806035e+08   \n",
            "max    1.886894e+12    42138.663900     1.581527e+12  4.621600e+11   \n",
            "\n",
            "       R&D Expenses  SG&A Expense  Operating Expenses  Operating Income  \\\n",
            "count  1.993900e+04  2.040800e+04        2.037500e+04      2.097600e+04   \n",
            "mean   1.033333e+08  8.699279e+08        1.368670e+09      5.896979e+08   \n",
            "std    7.676062e+08  3.804283e+09        5.662984e+09      2.976454e+09   \n",
            "min   -1.098000e+08 -1.401594e+08       -5.495512e+09     -1.933900e+10   \n",
            "25%    0.000000e+00  1.768550e+07        3.564150e+07     -4.433750e+06   \n",
            "50%    0.000000e+00  8.062450e+07        1.564000e+08      3.585350e+07   \n",
            "75%    1.220150e+07  3.699722e+08        6.210870e+08      2.554363e+08   \n",
            "max    2.883700e+10  1.856830e+11        3.056050e+11      1.565540e+11   \n",
            "\n",
            "       Interest Expense  Earnings before Tax  ...  \\\n",
            "count      2.035800e+04         2.071300e+04  ...   \n",
            "mean       9.778939e+07         4.925003e+08  ...   \n",
            "std        4.996543e+08         2.484345e+09  ...   \n",
            "min       -1.710954e+09        -2.177200e+10  ...   \n",
            "25%        0.000000e+00        -8.745000e+06  ...   \n",
            "50%        3.697000e+06         2.380000e+07  ...   \n",
            "75%        4.969325e+07         1.964680e+08  ...   \n",
            "max        3.152300e+10         8.720500e+10  ...   \n",
            "\n",
            "       3Y Dividend per Share Growth (per Share)  Receivables growth  \\\n",
            "count                              18264.000000        19952.000000   \n",
            "mean                                   0.012298           10.978239   \n",
            "std                                    0.263079         1101.098165   \n",
            "min                                   -1.000000           -1.000000   \n",
            "25%                                    0.000000           -0.051125   \n",
            "50%                                    0.000000            0.009500   \n",
            "75%                                    0.040000            0.200550   \n",
            "max                                    5.400500       153332.333300   \n",
            "\n",
            "       Inventory Growth  Asset Growth  Book Value per Share Growth  \\\n",
            "count      19650.000000  19690.000000                 19213.000000   \n",
            "mean           0.158858      1.134221                     0.783208   \n",
            "std            3.268154     45.381079                    66.524006   \n",
            "min           -1.000000     -1.000000                 -3963.131200   \n",
            "25%            0.000000     -0.031075                    -0.103800   \n",
            "50%            0.000000      0.048000                     0.032400   \n",
            "75%            0.058400      0.176800                     0.142100   \n",
            "max          293.473000   5468.426400                  7039.325900   \n",
            "\n",
            "        Debt Growth  R&D Expense Growth  SG&A Expenses Growth  \\\n",
            "count  19462.000000        19598.000000          19655.000000   \n",
            "mean       3.733922            0.295610              0.365149   \n",
            "std      174.864701           12.974127             15.030054   \n",
            "min       -1.051000           -2.662200             -2.369900   \n",
            "25%       -0.067475            0.000000             -0.013700   \n",
            "50%        0.000000            0.000000              0.061000   \n",
            "75%        0.150075            0.000000              0.185350   \n",
            "max    17646.823500         1542.611000           2042.000000   \n",
            "\n",
            "       EoY PRICE VAR [%]         Class  \n",
            "count       2.207700e+04  22077.000000  \n",
            "mean        2.698893e+02      0.550754  \n",
            "std         1.934617e+04      0.497429  \n",
            "min        -1.003972e+02      0.000000  \n",
            "25%        -1.947409e+01      0.000000  \n",
            "50%         3.909087e+00      1.000000  \n",
            "75%         2.750567e+01      1.000000  \n",
            "max         2.418601e+06      1.000000  \n",
            "\n",
            "[8 rows x 223 columns]\n"
          ]
        }
      ],
      "source": [
        "print(df.describe())"
      ]
    },
    {
      "cell_type": "code",
      "execution_count": 50,
      "metadata": {
        "colab": {
          "base_uri": "https://localhost:8080/"
        },
        "id": "KtSNXGnye9d_",
        "outputId": "bf3ec285-2948-44c8-8a89-ce9ef7767679"
      },
      "outputs": [
        {
          "name": "stdout",
          "output_type": "stream",
          "text": [
            "ticker                     0\n",
            "Revenue                 1171\n",
            "Revenue Growth          2088\n",
            "Cost of Revenue         1771\n",
            "Gross Profit            1207\n",
            "                        ... \n",
            "R&D Expense Growth      2479\n",
            "SG&A Expenses Growth    2422\n",
            "Sector                     0\n",
            "EoY PRICE VAR [%]          0\n",
            "Class                      0\n",
            "Length: 225, dtype: int64\n",
            "ticker                   0.000000\n",
            "Revenue                  5.304163\n",
            "Revenue Growth           9.457807\n",
            "Cost of Revenue          8.021923\n",
            "Gross Profit             5.467228\n",
            "                          ...    \n",
            "R&D Expense Growth      11.228881\n",
            "SG&A Expenses Growth    10.970693\n",
            "Sector                   0.000000\n",
            "EoY PRICE VAR [%]        0.000000\n",
            "Class                    0.000000\n",
            "Length: 225, dtype: float64\n"
          ]
        }
      ],
      "source": [
        "# chybějící hodnoty\n",
        "print(df.isnull().sum())\n",
        "missing_percentage = (df.isnull().sum() / len(df)) * 100\n",
        "# v procentech\n",
        "print(missing_percentage)"
      ]
    },
    {
      "cell_type": "code",
      "execution_count": 51,
      "metadata": {
        "colab": {
          "base_uri": "https://localhost:8080/"
        },
        "id": "tBvWgKaRjO8I",
        "outputId": "16b04368-fa49-40b1-fb2d-4c8f59cf8d02"
      },
      "outputs": [
        {
          "name": "stdout",
          "output_type": "stream",
          "text": [
            "ticker\n",
            "Sector\n"
          ]
        }
      ],
      "source": [
        "# najdi všechny textové sloupce\n",
        "for sloupec in df.columns:\n",
        "    if df[sloupec].dtypes == \"O\":\n",
        "        print(sloupec)"
      ]
    },
    {
      "cell_type": "code",
      "execution_count": 52,
      "metadata": {
        "id": "63vJAE9k_ys3"
      },
      "outputs": [],
      "source": [
        "# ticker konkrétní firmy nebereme pro predikce\n",
        "del df[\"ticker\"]"
      ]
    },
    {
      "cell_type": "code",
      "execution_count": 53,
      "metadata": {
        "colab": {
          "base_uri": "https://localhost:8080/"
        },
        "id": "YeezAZXzjuSw",
        "outputId": "eac5c2b8-e887-407d-883a-7be051491537"
      },
      "outputs": [
        {
          "name": "stdout",
          "output_type": "stream",
          "text": [
            "Počet unikátnych hodnôt: 11\n",
            "['Consumer Defensive' 'Basic Materials' 'Healthcare' 'Consumer Cyclical'\n",
            " 'Industrials' 'Real Estate' 'Communication Services' 'Energy'\n",
            " 'Financial Services' 'Utilities' 'Technology']\n"
          ]
        }
      ],
      "source": [
        "# kolik unikátních sektorů?\n",
        "unique_count = df['Sector'].nunique()\n",
        "print(f'Počet unikátnych hodnôt: {unique_count}')\n",
        "# Zobraziť unikátne hodnoty\n",
        "print(df['Sector'].unique())"
      ]
    },
    {
      "cell_type": "code",
      "execution_count": 54,
      "metadata": {
        "collapsed": true,
        "id": "TNNja0MAyFS2"
      },
      "outputs": [],
      "source": [
        "# Aplikovať One-Hot Encoding na správny stĺpec\n",
        "df_encoded = pd.get_dummies(df, columns=['Sector'], dtype=int)"
      ]
    },
    {
      "cell_type": "code",
      "execution_count": 78,
      "metadata": {},
      "outputs": [],
      "source": [
        "for col in df_encoded.columns:\n",
        "    df_encoded[col] = df_encoded[col].fillna(df_encoded[col].median())"
      ]
    },
    {
      "cell_type": "code",
      "execution_count": 80,
      "metadata": {
        "colab": {
          "base_uri": "https://localhost:8080/"
        },
        "collapsed": true,
        "id": "Yj6ilHSQyYKX",
        "outputId": "d87cac35-0baf-4215-e9f3-2b50b223a1d7"
      },
      "outputs": [
        {
          "name": "stdout",
          "output_type": "stream",
          "text": [
            "                     Revenue  Revenue Growth  Cost of Revenue  Gross Profit  \\\n",
            "Revenue             1.000000       -0.001676         0.977959      0.803081   \n",
            "Revenue Growth     -0.001676        1.000000        -0.001314     -0.002371   \n",
            "Cost of Revenue     0.977959       -0.001314         1.000000      0.665383   \n",
            "Gross Profit        0.803081       -0.002371         0.665383      1.000000   \n",
            "R&D Expenses        0.335738       -0.001169         0.276145      0.424032   \n",
            "...                      ...             ...              ...           ...   \n",
            "Sector_Healthcare  -0.022349        0.005797        -0.016349     -0.032912   \n",
            "Sector_Industrials -0.013592       -0.003802        -0.008812     -0.022875   \n",
            "Sector_Real Estate -0.031542       -0.002222        -0.025168     -0.041081   \n",
            "Sector_Technology  -0.016945       -0.003892        -0.015326     -0.016059   \n",
            "Sector_Utilities    0.001753       -0.001662         0.002951     -0.001844   \n",
            "\n",
            "                    R&D Expenses  SG&A Expense  Operating Expenses  \\\n",
            "Revenue                 0.335738      0.581228            0.503257   \n",
            "Revenue Growth         -0.001169     -0.002370           -0.002483   \n",
            "Cost of Revenue         0.276145      0.438936            0.337299   \n",
            "Gross Profit            0.424032      0.847416            0.859079   \n",
            "R&D Expenses            1.000000      0.265448            0.348453   \n",
            "...                          ...           ...                 ...   \n",
            "Sector_Healthcare       0.057385     -0.023123           -0.027069   \n",
            "Sector_Industrials     -0.027817     -0.015240           -0.021765   \n",
            "Sector_Real Estate     -0.030557     -0.047150           -0.045780   \n",
            "Sector_Technology       0.128499     -0.024962           -0.020632   \n",
            "Sector_Utilities       -0.019613     -0.027671           -0.009859   \n",
            "\n",
            "                    Operating Income  Interest Expense  Earnings before Tax  \\\n",
            "Revenue                     0.413021          0.626105             0.414872   \n",
            "Revenue Growth             -0.002333         -0.002023            -0.002378   \n",
            "Cost of Revenue             0.256116          0.567389             0.268972   \n",
            "Gross Profit                0.757120          0.638882             0.734037   \n",
            "R&D Expenses                0.355553          0.157622             0.443575   \n",
            "...                              ...               ...                  ...   \n",
            "Sector_Healthcare          -0.040412         -0.040370            -0.034989   \n",
            "Sector_Industrials         -0.020064         -0.013318            -0.018869   \n",
            "Sector_Real Estate         -0.031443         -0.003183            -0.031634   \n",
            "Sector_Technology          -0.002708         -0.050560             0.012257   \n",
            "Sector_Utilities            0.016584          0.074636             0.011447   \n",
            "\n",
            "                    ...  Sector_Communication Services  \\\n",
            "Revenue             ...                       0.060211   \n",
            "Revenue Growth      ...                      -0.001520   \n",
            "Cost of Revenue     ...                       0.020079   \n",
            "Gross Profit        ...                       0.144160   \n",
            "R&D Expenses        ...                      -0.015271   \n",
            "...                 ...                            ...   \n",
            "Sector_Healthcare   ...                      -0.060181   \n",
            "Sector_Industrials  ...                      -0.054304   \n",
            "Sector_Real Estate  ...                      -0.035003   \n",
            "Sector_Technology   ...                      -0.058252   \n",
            "Sector_Utilities    ...                      -0.022232   \n",
            "\n",
            "                    Sector_Consumer Cyclical  Sector_Consumer Defensive  \\\n",
            "Revenue                             0.009958                   0.047233   \n",
            "Revenue Growth                     -0.003623                  -0.002227   \n",
            "Cost of Revenue                     0.013332                   0.043563   \n",
            "Gross Profit                       -0.001425                   0.046577   \n",
            "R&D Expenses                       -0.026330                  -0.025587   \n",
            "...                                      ...                        ...   \n",
            "Sector_Healthcare                  -0.148961                  -0.087597   \n",
            "Sector_Industrials                 -0.134414                  -0.079043   \n",
            "Sector_Real Estate                 -0.086640                  -0.050949   \n",
            "Sector_Technology                  -0.144185                  -0.084789   \n",
            "Sector_Utilities                   -0.055029                  -0.032360   \n",
            "\n",
            "                    Sector_Energy  Sector_Financial Services  \\\n",
            "Revenue                  0.053322                  -0.012640   \n",
            "Revenue Growth          -0.002364                   0.010470   \n",
            "Cost of Revenue          0.056610                  -0.019891   \n",
            "Gross Profit             0.031138                   0.012345   \n",
            "R&D Expenses             0.000621                  -0.059931   \n",
            "...                           ...                        ...   \n",
            "Sector_Healthcare       -0.101349                  -0.218808   \n",
            "Sector_Industrials      -0.091452                  -0.197441   \n",
            "Sector_Real Estate      -0.058948                  -0.127266   \n",
            "Sector_Technology       -0.098099                  -0.211793   \n",
            "Sector_Utilities        -0.037440                  -0.080832   \n",
            "\n",
            "                    Sector_Healthcare  Sector_Industrials  Sector_Real Estate  \\\n",
            "Revenue                     -0.022349           -0.013592           -0.031542   \n",
            "Revenue Growth               0.005797           -0.003802           -0.002222   \n",
            "Cost of Revenue             -0.016349           -0.008812           -0.025168   \n",
            "Gross Profit                -0.032912           -0.022875           -0.041081   \n",
            "R&D Expenses                 0.057385           -0.027817           -0.030557   \n",
            "...                               ...                 ...                 ...   \n",
            "Sector_Healthcare            1.000000           -0.158867           -0.102402   \n",
            "Sector_Industrials          -0.158867            1.000000           -0.092402   \n",
            "Sector_Real Estate          -0.102402           -0.092402            1.000000   \n",
            "Sector_Technology           -0.170415           -0.153774           -0.099119   \n",
            "Sector_Utilities            -0.065040           -0.058689           -0.037829   \n",
            "\n",
            "                    Sector_Technology  Sector_Utilities  \n",
            "Revenue                     -0.016945          0.001753  \n",
            "Revenue Growth              -0.003892         -0.001662  \n",
            "Cost of Revenue             -0.015326          0.002951  \n",
            "Gross Profit                -0.016059         -0.001844  \n",
            "R&D Expenses                 0.128499         -0.019613  \n",
            "...                               ...               ...  \n",
            "Sector_Healthcare           -0.170415         -0.065040  \n",
            "Sector_Industrials          -0.153774         -0.058689  \n",
            "Sector_Real Estate          -0.099119         -0.037829  \n",
            "Sector_Technology            1.000000         -0.062955  \n",
            "Sector_Utilities            -0.062955          1.000000  \n",
            "\n",
            "[234 rows x 234 columns]\n"
          ]
        }
      ],
      "source": [
        "correlation_matrix = df_encoded.corr()\n",
        "# Zobrazenie korelačnej matice\n",
        "print(correlation_matrix)"
      ]
    },
    {
      "cell_type": "markdown",
      "metadata": {
        "id": "qrILOf56JWTk"
      },
      "source": []
    },
    {
      "cell_type": "code",
      "execution_count": 81,
      "metadata": {
        "colab": {
          "base_uri": "https://localhost:8080/"
        },
        "id": "MrEqJVPdT8CF",
        "outputId": "14f4b606-107e-4a96-d310-e2195678f8c0"
      },
      "outputs": [
        {
          "name": "stdout",
          "output_type": "stream",
          "text": [
            "Class                                         1.000000\n",
            "Sector_Financial Services                     0.084722\n",
            "10Y Operating CF Growth (per Share)           0.060231\n",
            "10Y Net Income Growth (per Share)             0.057749\n",
            "10Y Shareholders Equity Growth (per Share)    0.057181\n",
            "10Y Revenue Growth (per Share)                0.054601\n",
            "5Y Revenue Growth (per Share)                 0.054446\n",
            "Enterprise Value                              0.052825\n",
            "5Y Operating CF Growth (per Share)            0.050302\n",
            "5Y Dividend per Share Growth (per Share)      0.047490\n",
            "Sector_Utilities                              0.047351\n",
            "5Y Net Income Growth (per Share)              0.046061\n",
            "3Y Dividend per Share Growth (per Share)      0.045157\n",
            "Gross Margin                                  0.039294\n",
            "Sector_Real Estate                            0.038948\n",
            "Earnings before Tax                           0.038169\n",
            "Free Cash Flow                                0.036493\n",
            "Operating Income                              0.036083\n",
            "Stock-based compensation                      0.034707\n",
            "10Y Dividend per Share Growth (per Share)     0.032672\n",
            "Name: Class, dtype: float64\n"
          ]
        }
      ],
      "source": [
        "# korelácia cieľovej premennej 'Class'\n",
        "target_corr = correlation_matrix['Class'].sort_values(ascending=False)\n",
        "top_20_corr = target_corr.head(20)\n",
        "print(top_20_corr)"
      ]
    },
    {
      "cell_type": "code",
      "execution_count": 82,
      "metadata": {
        "colab": {
          "base_uri": "https://localhost:8080/",
          "height": 1000
        },
        "id": "CRMpdnXTUBTU",
        "outputId": "faf77363-d6ee-4cb5-d3d4-e3a316127e2a"
      },
      "outputs": [
        {
          "name": "stderr",
          "output_type": "stream",
          "text": [
            "C:\\Users\\cejs0\\AppData\\Local\\Temp\\ipykernel_16100\\3502547460.py:3: FutureWarning: \n",
            "\n",
            "Passing `palette` without assigning `hue` is deprecated and will be removed in v0.14.0. Assign the `x` variable to `hue` and set `legend=False` for the same effect.\n",
            "\n",
            "  sns.barplot(x=top_20_corr.index, y=top_20_corr.values, palette='coolwarm')\n"
          ]
        },
        {
          "data": {
            "image/png": "[encoded data removed]",
            "text/plain": [
              "<Figure size 1200x800 with 1 Axes>"
            ]
          },
          "metadata": {},
          "output_type": "display_data"
        }
      ],
      "source": [
        "# vizualizácia korelácie cieľovej premennej 'Class'\n",
        "plt.figure(figsize=(12, 8))\n",
        "sns.barplot(x=top_20_corr.index, y=top_20_corr.values, palette='coolwarm')\n",
        "plt.xticks(rotation=90)\n",
        "plt.xlabel('Premenné')\n",
        "plt.ylabel('Korelácia s Class')\n",
        "plt.title('Top 20 korelácia premenných s cieľovou premennou Class')\n",
        "plt.show()"
      ]
    },
    {
      "cell_type": "code",
      "execution_count": 83,
      "metadata": {
        "id": "tqgknffjUF7c"
      },
      "outputs": [],
      "source": [
        "# oddelenie cieľovej premennej a funkcií\n",
        "X = df_encoded.drop(columns=['Class'])\n",
        "y = df_encoded['Class']\n",
        "\n",
        "# rozdelenie dát na trénovaciu a testovaciu množinu\n",
        "X_train, X_test, y_train, y_test = train_test_split(X, y, test_size=0.3, random_state=42, stratify=y)\n"
      ]
    },
    {
      "cell_type": "code",
      "execution_count": 84,
      "metadata": {
        "id": "JqNHGTHvXoTc"
      },
      "outputs": [],
      "source": [
        "from sklearn.preprocessing import MinMaxScaler\n",
        "\n",
        "# Inicializácia škálovača\n",
        "scaler = MinMaxScaler()\n",
        "\n",
        "# Fit a transformácia trénovacích dát, transformácia testovacích dát\n",
        "X_train_scaled = scaler.fit_transform(X_train)\n",
        "X_test_scaled = scaler.transform(X_test)"
      ]
    },
    {
      "cell_type": "code",
      "execution_count": 85,
      "metadata": {},
      "outputs": [],
      "source": [
        "from sklearn.neighbors import KNeighborsClassifier"
      ]
    },
    {
      "cell_type": "code",
      "execution_count": 86,
      "metadata": {},
      "outputs": [],
      "source": [
        "knn = KNeighborsClassifier()"
      ]
    },
    {
      "cell_type": "code",
      "execution_count": 87,
      "metadata": {},
      "outputs": [
        {
          "data": {
            "text/html": [
              "<style>#sk-container-id-1 {color: black;}#sk-container-id-1 pre{padding: 0;}#sk-container-id-1 div.sk-toggleable {background-color: white;}#sk-container-id-1 label.sk-toggleable__label {cursor: pointer;display: block;width: 100%;margin-bottom: 0;padding: 0.3em;box-sizing: border-box;text-align: center;}#sk-container-id-1 label.sk-toggleable__label-arrow:before {content: \"▸\";float: left;margin-right: 0.25em;color: #696969;}#sk-container-id-1 label.sk-toggleable__label-arrow:hover:before {color: black;}#sk-container-id-1 div.sk-estimator:hover label.sk-toggleable__label-arrow:before {color: black;}#sk-container-id-1 div.sk-toggleable__content {max-height: 0;max-width: 0;overflow: hidden;text-align: left;background-color: #f0f8ff;}#sk-container-id-1 div.sk-toggleable__content pre {margin: 0.2em;color: black;border-radius: 0.25em;background-color: #f0f8ff;}#sk-container-id-1 input.sk-toggleable__control:checked~div.sk-toggleable__content {max-height: 200px;max-width: 100%;overflow: auto;}#sk-container-id-1 input.sk-toggleable__control:checked~label.sk-toggleable__label-arrow:before {content: \"▾\";}#sk-container-id-1 div.sk-estimator input.sk-toggleable__control:checked~label.sk-toggleable__label {background-color: #d4ebff;}#sk-container-id-1 div.sk-label input.sk-toggleable__control:checked~label.sk-toggleable__label {background-color: #d4ebff;}#sk-container-id-1 input.sk-hidden--visually {border: 0;clip: rect(1px 1px 1px 1px);clip: rect(1px, 1px, 1px, 1px);height: 1px;margin: -1px;overflow: hidden;padding: 0;position: absolute;width: 1px;}#sk-container-id-1 div.sk-estimator {font-family: monospace;background-color: #f0f8ff;border: 1px dotted black;border-radius: 0.25em;box-sizing: border-box;margin-bottom: 0.5em;}#sk-container-id-1 div.sk-estimator:hover {background-color: #d4ebff;}#sk-container-id-1 div.sk-parallel-item::after {content: \"\";width: 100%;border-bottom: 1px solid gray;flex-grow: 1;}#sk-container-id-1 div.sk-label:hover label.sk-toggleable__label {background-color: #d4ebff;}#sk-container-id-1 div.sk-serial::before {content: \"\";position: absolute;border-left: 1px solid gray;box-sizing: border-box;top: 0;bottom: 0;left: 50%;z-index: 0;}#sk-container-id-1 div.sk-serial {display: flex;flex-direction: column;align-items: center;background-color: white;padding-right: 0.2em;padding-left: 0.2em;position: relative;}#sk-container-id-1 div.sk-item {position: relative;z-index: 1;}#sk-container-id-1 div.sk-parallel {display: flex;align-items: stretch;justify-content: center;background-color: white;position: relative;}#sk-container-id-1 div.sk-item::before, #sk-container-id-1 div.sk-parallel-item::before {content: \"\";position: absolute;border-left: 1px solid gray;box-sizing: border-box;top: 0;bottom: 0;left: 50%;z-index: -1;}#sk-container-id-1 div.sk-parallel-item {display: flex;flex-direction: column;z-index: 1;position: relative;background-color: white;}#sk-container-id-1 div.sk-parallel-item:first-child::after {align-self: flex-end;width: 50%;}#sk-container-id-1 div.sk-parallel-item:last-child::after {align-self: flex-start;width: 50%;}#sk-container-id-1 div.sk-parallel-item:only-child::after {width: 0;}#sk-container-id-1 div.sk-dashed-wrapped {border: 1px dashed gray;margin: 0 0.4em 0.5em 0.4em;box-sizing: border-box;padding-bottom: 0.4em;background-color: white;}#sk-container-id-1 div.sk-label label {font-family: monospace;font-weight: bold;display: inline-block;line-height: 1.2em;}#sk-container-id-1 div.sk-label-container {text-align: center;}#sk-container-id-1 div.sk-container {/* jupyter's `normalize.less` sets `[hidden] { display: none; }` but bootstrap.min.css set `[hidden] { display: none !important; }` so we also need the `!important` here to be able to override the default hidden behavior on the sphinx rendered scikit-learn.org. See: https://github.com/scikit-learn/scikit-learn/issues/21755 */display: inline-block !important;position: relative;}#sk-container-id-1 div.sk-text-repr-fallback {display: none;}</style><div id=\"sk-container-id-1\" class=\"sk-top-container\"><div class=\"sk-text-repr-fallback\"><pre>KNeighborsClassifier()</pre><b>In a Jupyter environment, please rerun this cell to show the HTML representation or trust the notebook. <br />On GitHub, the HTML representation is unable to render, please try loading this page with nbviewer.org.</b></div><div class=\"sk-container\" hidden><div class=\"sk-item\"><div class=\"sk-estimator sk-toggleable\"><input class=\"sk-toggleable__control sk-hidden--visually\" id=\"sk-estimator-id-1\" type=\"checkbox\" checked><label for=\"sk-estimator-id-1\" class=\"sk-toggleable__label sk-toggleable__label-arrow\">KNeighborsClassifier</label><div class=\"sk-toggleable__content\"><pre>KNeighborsClassifier()</pre></div></div></div></div></div>"
            ],
            "text/plain": [
              "KNeighborsClassifier()"
            ]
          },
          "execution_count": 87,
          "metadata": {},
          "output_type": "execute_result"
        }
      ],
      "source": [
        "# Trénovanie modelu na trénovacích dátach\n",
        "knn.fit(X_train_scaled, y_train)"
      ]
    },
    {
      "cell_type": "code",
      "execution_count": 88,
      "metadata": {},
      "outputs": [
        {
          "name": "stderr",
          "output_type": "stream",
          "text": [
            " 41%|████▏     | 12/29 [12:11<27:27, 96.93s/it]  "
          ]
        }
      ],
      "source": [
        "from lazypredict.Supervised import LazyClassifier\n",
        "\n",
        "clf = LazyClassifier(verbose=0,ignore_warnings=True, custom_metric=None)\n",
        "models, predictions = clf.fit(X_train_scaled, X_test_scaled, y_train, y_test)\n",
        "\n",
        "print(models)"
      ]
    }
  ],
  "metadata": {
    "colab": {
      "provenance": []
    },
    "kernelspec": {
      "display_name": "Python 3",
      "name": "python3"
    },
    "language_info": {
      "codemirror_mode": {
        "name": "ipython",
        "version": 3
      },
      "file_extension": ".py",
      "mimetype": "text/x-python",
      "name": "python",
      "nbconvert_exporter": "python",
      "pygments_lexer": "ipython3",
      "version": "3.8.10"
    }
  },
  "nbformat": 4,
  "nbformat_minor": 0
}
